{
 "cells": [
  {
   "cell_type": "markdown",
   "metadata": {},
   "source": [
    "# Librairie `pandas` & `matplotlib`"
   ]
  },
  {
   "cell_type": "markdown",
   "metadata": {},
   "source": [
    "<div class=\"alert alert-block alert-danger\">\n",
    "    Si vous utilisez ce notebook via mybinder, pensez à télécharger votre fichier à la fin de la séance afin de conserver une trace de votre travail !\n",
    "</div>"
   ]
  },
  {
   "cell_type": "markdown",
   "metadata": {},
   "source": [
    "## À la découverte des planètes extrasolaires\n",
    "\n",
    "Le fichier [`planets.csv`](https://raw.githubusercontent.com/xgarrido/master_python_teaching/master/td/data/planets.csv) contient des informations relatives aux planètes extrasolaires depuis la première \"découverte\" en 1989. Le document fait notamment référence aux techniques de découverte de ces objets et recense les informations glanées par leurs découvreurs : période orbitale en jours, masse de la planète, distance à l'objet en années lumières et année de découverte. Dans cet exercice, on utilisera le module `pandas` plus à même de traiter des fichiers de données mélant données numériques et alphanumériques."
   ]
  },
  {
   "cell_type": "markdown",
   "metadata": {},
   "source": [
    "- Après avoir lu le fichier, afficher un premier résumé des propriétés statistiques du fichier."
   ]
  },
  {
   "cell_type": "code",
   "execution_count": 1,
   "metadata": {},
   "outputs": [
    {
     "data": {
      "text/plain": [
       "((1035, 6),\n",
       " Index(['method', 'number', 'orbital_period', 'mass', 'distance', 'year'], dtype='object'),\n",
       " method             object\n",
       " number              int64\n",
       " orbital_period    float64\n",
       " mass              float64\n",
       " distance          float64\n",
       " year                int64\n",
       " dtype: object,\n",
       "        number  orbital_period        mass     distance         year\n",
       " count  1035.0      992.000000  513.000000   808.000000  1035.000000\n",
       " mean      1.0     2002.917596    2.638161   264.069282  2009.070531\n",
       " std       0.0    26014.728304    3.818617   733.116493     3.972567\n",
       " min       1.0        0.090706    0.003600     1.350000  1989.000000\n",
       " 25%       1.0        5.442540    0.229000    32.560000  2007.000000\n",
       " 50%       1.0       39.979500    1.260000    55.250000  2010.000000\n",
       " 75%       1.0      526.005000    3.040000   178.500000  2012.000000\n",
       " max       1.0   730000.000000   25.000000  8500.000000  2014.000000)"
      ]
     },
     "execution_count": 1,
     "metadata": {},
     "output_type": "execute_result"
    }
   ],
   "source": [
    "import pandas as pd\n",
    "planets = pd.read_csv(\"planets.csv\", sep=\",\")\n",
    "planets.shape, planets.columns, planets.dtypes, planets.describe()"
   ]
  },
  {
   "cell_type": "markdown",
   "metadata": {},
   "source": [
    "- Faire de même en ayant au préalable regroupé les données par méthode de détection."
   ]
  },
  {
   "cell_type": "code",
   "execution_count": 2,
   "metadata": {},
   "outputs": [
    {
     "data": {
      "text/html": [
       "<div>\n",
       "<style scoped>\n",
       "    .dataframe tbody tr th:only-of-type {\n",
       "        vertical-align: middle;\n",
       "    }\n",
       "\n",
       "    .dataframe tbody tr th {\n",
       "        vertical-align: top;\n",
       "    }\n",
       "\n",
       "    .dataframe thead th {\n",
       "        text-align: right;\n",
       "    }\n",
       "</style>\n",
       "<table border=\"1\" class=\"dataframe\">\n",
       "  <thead>\n",
       "    <tr style=\"text-align: right;\">\n",
       "      <th></th>\n",
       "      <th>method</th>\n",
       "      <th>number</th>\n",
       "      <th>orbital_period</th>\n",
       "      <th>mass</th>\n",
       "      <th>distance</th>\n",
       "      <th>year</th>\n",
       "    </tr>\n",
       "  </thead>\n",
       "  <tbody>\n",
       "    <tr>\n",
       "      <th>537</th>\n",
       "      <td>Astrometry</td>\n",
       "      <td>1</td>\n",
       "      <td>1016.000000</td>\n",
       "      <td>NaN</td>\n",
       "      <td>14.98</td>\n",
       "      <td>2010</td>\n",
       "    </tr>\n",
       "    <tr>\n",
       "      <th>113</th>\n",
       "      <td>Astrometry</td>\n",
       "      <td>1</td>\n",
       "      <td>246.360000</td>\n",
       "      <td>NaN</td>\n",
       "      <td>20.77</td>\n",
       "      <td>2013</td>\n",
       "    </tr>\n",
       "    <tr>\n",
       "      <th>37</th>\n",
       "      <td>Eclipse Timing Variations</td>\n",
       "      <td>1</td>\n",
       "      <td>5767.000000</td>\n",
       "      <td>NaN</td>\n",
       "      <td>130.72</td>\n",
       "      <td>2008</td>\n",
       "    </tr>\n",
       "    <tr>\n",
       "      <th>44</th>\n",
       "      <td>Eclipse Timing Variations</td>\n",
       "      <td>1</td>\n",
       "      <td>1916.250000</td>\n",
       "      <td>NaN</td>\n",
       "      <td>NaN</td>\n",
       "      <td>2011</td>\n",
       "    </tr>\n",
       "    <tr>\n",
       "      <th>43</th>\n",
       "      <td>Eclipse Timing Variations</td>\n",
       "      <td>1</td>\n",
       "      <td>5840.000000</td>\n",
       "      <td>NaN</td>\n",
       "      <td>NaN</td>\n",
       "      <td>2011</td>\n",
       "    </tr>\n",
       "    <tr>\n",
       "      <th>...</th>\n",
       "      <td>...</td>\n",
       "      <td>...</td>\n",
       "      <td>...</td>\n",
       "      <td>...</td>\n",
       "      <td>...</td>\n",
       "      <td>...</td>\n",
       "    </tr>\n",
       "    <tr>\n",
       "      <th>1034</th>\n",
       "      <td>Transit</td>\n",
       "      <td>1</td>\n",
       "      <td>4.187757</td>\n",
       "      <td>NaN</td>\n",
       "      <td>260.00</td>\n",
       "      <td>2008</td>\n",
       "    </tr>\n",
       "    <tr>\n",
       "      <th>736</th>\n",
       "      <td>Transit Timing Variations</td>\n",
       "      <td>1</td>\n",
       "      <td>57.011000</td>\n",
       "      <td>NaN</td>\n",
       "      <td>855.00</td>\n",
       "      <td>2012</td>\n",
       "    </tr>\n",
       "    <tr>\n",
       "      <th>680</th>\n",
       "      <td>Transit Timing Variations</td>\n",
       "      <td>1</td>\n",
       "      <td>160.000000</td>\n",
       "      <td>NaN</td>\n",
       "      <td>2119.00</td>\n",
       "      <td>2011</td>\n",
       "    </tr>\n",
       "    <tr>\n",
       "      <th>813</th>\n",
       "      <td>Transit Timing Variations</td>\n",
       "      <td>1</td>\n",
       "      <td>22.339500</td>\n",
       "      <td>NaN</td>\n",
       "      <td>339.00</td>\n",
       "      <td>2013</td>\n",
       "    </tr>\n",
       "    <tr>\n",
       "      <th>749</th>\n",
       "      <td>Transit Timing Variations</td>\n",
       "      <td>1</td>\n",
       "      <td>NaN</td>\n",
       "      <td>NaN</td>\n",
       "      <td>NaN</td>\n",
       "      <td>2014</td>\n",
       "    </tr>\n",
       "  </tbody>\n",
       "</table>\n",
       "<p>1035 rows × 6 columns</p>\n",
       "</div>"
      ],
      "text/plain": [
       "                         method  number  orbital_period  mass  distance  year\n",
       "537                  Astrometry       1     1016.000000   NaN     14.98  2010\n",
       "113                  Astrometry       1      246.360000   NaN     20.77  2013\n",
       "37    Eclipse Timing Variations       1     5767.000000   NaN    130.72  2008\n",
       "44    Eclipse Timing Variations       1     1916.250000   NaN       NaN  2011\n",
       "43    Eclipse Timing Variations       1     5840.000000   NaN       NaN  2011\n",
       "...                         ...     ...             ...   ...       ...   ...\n",
       "1034                    Transit       1        4.187757   NaN    260.00  2008\n",
       "736   Transit Timing Variations       1       57.011000   NaN    855.00  2012\n",
       "680   Transit Timing Variations       1      160.000000   NaN   2119.00  2011\n",
       "813   Transit Timing Variations       1       22.339500   NaN    339.00  2013\n",
       "749   Transit Timing Variations       1             NaN   NaN       NaN  2014\n",
       "\n",
       "[1035 rows x 6 columns]"
      ]
     },
     "execution_count": 2,
     "metadata": {},
     "output_type": "execute_result"
    }
   ],
   "source": [
    "planets.sort_values(by=\"method\")"
   ]
  },
  {
   "cell_type": "markdown",
   "metadata": {},
   "source": [
    "- Représenter le nombre de planètes découvertes en fonction du temps."
   ]
  },
  {
   "cell_type": "code",
   "execution_count": 6,
   "metadata": {},
   "outputs": [
    {
     "data": {
      "text/plain": [
       "<AxesSubplot:xlabel='year'>"
      ]
     },
     "execution_count": 6,
     "metadata": {},
     "output_type": "execute_result"
    },
    {
     "data": {
      "image/png": "[encoded data removed]",
      "text/plain": [
       "<Figure size 432x288 with 1 Axes>"
      ]
     },
     "metadata": {
      "needs_background": "light"
     },
     "output_type": "display_data"
    }
   ],
   "source": [
    "planets[[\"year\",\"number\"]].groupby(\"year\").sum().plot(style=\"--o\")"
   ]
  },
  {
   "cell_type": "markdown",
   "metadata": {},
   "source": [
    "- Représenter cette même information en fonction de la méthode utilisée pour la découverte."
   ]
  },
  {
   "cell_type": "code",
   "execution_count": 86,
   "metadata": {},
   "outputs": [
    {
     "data": {
      "text/html": [
       "<div>\n",
       "<style scoped>\n",
       "    .dataframe tbody tr th:only-of-type {\n",
       "        vertical-align: middle;\n",
       "    }\n",
       "\n",
       "    .dataframe tbody tr th {\n",
       "        vertical-align: top;\n",
       "    }\n",
       "\n",
       "    .dataframe thead th {\n",
       "        text-align: right;\n",
       "    }\n",
       "</style>\n",
       "<table border=\"1\" class=\"dataframe\">\n",
       "  <thead>\n",
       "    <tr style=\"text-align: right;\">\n",
       "      <th></th>\n",
       "      <th>number</th>\n",
       "    </tr>\n",
       "    <tr>\n",
       "      <th>method</th>\n",
       "      <th></th>\n",
       "    </tr>\n",
       "  </thead>\n",
       "  <tbody>\n",
       "    <tr>\n",
       "      <th>Astrometry</th>\n",
       "      <td>2</td>\n",
       "    </tr>\n",
       "    <tr>\n",
       "      <th>Eclipse Timing Variations</th>\n",
       "      <td>9</td>\n",
       "    </tr>\n",
       "    <tr>\n",
       "      <th>Imaging</th>\n",
       "      <td>38</td>\n",
       "    </tr>\n",
       "    <tr>\n",
       "      <th>Microlensing</th>\n",
       "      <td>23</td>\n",
       "    </tr>\n",
       "    <tr>\n",
       "      <th>Orbital Brightness Modulation</th>\n",
       "      <td>3</td>\n",
       "    </tr>\n",
       "    <tr>\n",
       "      <th>Pulsar Timing</th>\n",
       "      <td>5</td>\n",
       "    </tr>\n",
       "    <tr>\n",
       "      <th>Pulsation Timing Variations</th>\n",
       "      <td>1</td>\n",
       "    </tr>\n",
       "    <tr>\n",
       "      <th>Radial Velocity</th>\n",
       "      <td>553</td>\n",
       "    </tr>\n",
       "    <tr>\n",
       "      <th>Transit</th>\n",
       "      <td>397</td>\n",
       "    </tr>\n",
       "    <tr>\n",
       "      <th>Transit Timing Variations</th>\n",
       "      <td>4</td>\n",
       "    </tr>\n",
       "  </tbody>\n",
       "</table>\n",
       "</div>"
      ],
      "text/plain": [
       "                               number\n",
       "method                               \n",
       "Astrometry                          2\n",
       "Eclipse Timing Variations           9\n",
       "Imaging                            38\n",
       "Microlensing                       23\n",
       "Orbital Brightness Modulation       3\n",
       "Pulsar Timing                       5\n",
       "Pulsation Timing Variations         1\n",
       "Radial Velocity                   553\n",
       "Transit                           397\n",
       "Transit Timing Variations           4"
      ]
     },
     "execution_count": 86,
     "metadata": {},
     "output_type": "execute_result"
    }
   ],
   "source": [
    "planets[[\"number\",\"method\"]].groupby(\"method\").sum()"
   ]
  },
  {
   "cell_type": "markdown",
   "metadata": {},
   "source": [
    "-  Pour les deux principales méthodes, représenter la variation de la période orbitale en fonction\n",
    "   de la distance à la planète. Finalement, ajouter à la figure précédente, deux sous-figures,\n",
    "   présentant les distributions de période orbitale et de distance pour chacune des deux\n",
    "   méthodes. Les trois représentations doivent figurer sur la même figure et conclure quant aux\n",
    "   caractéristiques des objets extrasolaires mis en évidence par chacune des deux méthodes."
   ]
  },
  {
   "cell_type": "code",
   "execution_count": 40,
   "metadata": {},
   "outputs": [
    {
     "data": {
      "text/html": [
       "<div>\n",
       "<style scoped>\n",
       "    .dataframe tbody tr th:only-of-type {\n",
       "        vertical-align: middle;\n",
       "    }\n",
       "\n",
       "    .dataframe tbody tr th {\n",
       "        vertical-align: top;\n",
       "    }\n",
       "\n",
       "    .dataframe thead th {\n",
       "        text-align: right;\n",
       "    }\n",
       "</style>\n",
       "<table border=\"1\" class=\"dataframe\">\n",
       "  <thead>\n",
       "    <tr style=\"text-align: right;\">\n",
       "      <th>orbital_period</th>\n",
       "      <th>0.090706</th>\n",
       "      <th>0.240104</th>\n",
       "      <th>0.342887</th>\n",
       "      <th>0.453285</th>\n",
       "      <th>0.736540</th>\n",
       "      <th>0.742960</th>\n",
       "      <th>0.788840</th>\n",
       "      <th>0.813475</th>\n",
       "      <th>0.837495</th>\n",
       "      <th>0.853585</th>\n",
       "      <th>...</th>\n",
       "      <th>8679.700000</th>\n",
       "      <th>9017.800000</th>\n",
       "      <th>10037.500000</th>\n",
       "      <th>14002.000000</th>\n",
       "      <th>17337.500000</th>\n",
       "      <th>18000.000000</th>\n",
       "      <th>37000.000000</th>\n",
       "      <th>69000.000000</th>\n",
       "      <th>170000.000000</th>\n",
       "      <th>318280.000000</th>\n",
       "    </tr>\n",
       "    <tr>\n",
       "      <th>method</th>\n",
       "      <th></th>\n",
       "      <th></th>\n",
       "      <th></th>\n",
       "      <th></th>\n",
       "      <th></th>\n",
       "      <th></th>\n",
       "      <th></th>\n",
       "      <th></th>\n",
       "      <th></th>\n",
       "      <th></th>\n",
       "      <th></th>\n",
       "      <th></th>\n",
       "      <th></th>\n",
       "      <th></th>\n",
       "      <th></th>\n",
       "      <th></th>\n",
       "      <th></th>\n",
       "      <th></th>\n",
       "      <th></th>\n",
       "      <th></th>\n",
       "      <th></th>\n",
       "    </tr>\n",
       "  </thead>\n",
       "  <tbody>\n",
       "    <tr>\n",
       "      <th>Radial Velocity</th>\n",
       "      <td>NaN</td>\n",
       "      <td>NaN</td>\n",
       "      <td>NaN</td>\n",
       "      <td>NaN</td>\n",
       "      <td>12.53</td>\n",
       "      <td>NaN</td>\n",
       "      <td>NaN</td>\n",
       "      <td>NaN</td>\n",
       "      <td>NaN</td>\n",
       "      <td>NaN</td>\n",
       "      <td>...</td>\n",
       "      <td>NaN</td>\n",
       "      <td>44.8</td>\n",
       "      <td>NaN</td>\n",
       "      <td>14.08</td>\n",
       "      <td>23.98</td>\n",
       "      <td>NaN</td>\n",
       "      <td>NaN</td>\n",
       "      <td>NaN</td>\n",
       "      <td>NaN</td>\n",
       "      <td>NaN</td>\n",
       "    </tr>\n",
       "    <tr>\n",
       "      <th>Transit</th>\n",
       "      <td>NaN</td>\n",
       "      <td>NaN</td>\n",
       "      <td>NaN</td>\n",
       "      <td>38.7</td>\n",
       "      <td>NaN</td>\n",
       "      <td>303.0</td>\n",
       "      <td>250.0</td>\n",
       "      <td>80.0</td>\n",
       "      <td>173.0</td>\n",
       "      <td>150.0</td>\n",
       "      <td>...</td>\n",
       "      <td>NaN</td>\n",
       "      <td>NaN</td>\n",
       "      <td>NaN</td>\n",
       "      <td>NaN</td>\n",
       "      <td>NaN</td>\n",
       "      <td>NaN</td>\n",
       "      <td>NaN</td>\n",
       "      <td>NaN</td>\n",
       "      <td>NaN</td>\n",
       "      <td>NaN</td>\n",
       "    </tr>\n",
       "  </tbody>\n",
       "</table>\n",
       "<p>2 rows × 773 columns</p>\n",
       "</div>"
      ],
      "text/plain": [
       "orbital_period   0.090706       0.240104       0.342887       0.453285       \\\n",
       "method                                                                        \n",
       "Radial Velocity            NaN            NaN            NaN            NaN   \n",
       "Transit                    NaN            NaN            NaN           38.7   \n",
       "\n",
       "orbital_period   0.736540       0.742960       0.788840       0.813475       \\\n",
       "method                                                                        \n",
       "Radial Velocity          12.53            NaN            NaN            NaN   \n",
       "Transit                    NaN          303.0          250.0           80.0   \n",
       "\n",
       "orbital_period   0.837495       0.853585       ...  8679.700000    \\\n",
       "method                                         ...                  \n",
       "Radial Velocity            NaN            NaN  ...            NaN   \n",
       "Transit                  173.0          150.0  ...            NaN   \n",
       "\n",
       "orbital_period   9017.800000    10037.500000   14002.000000   17337.500000   \\\n",
       "method                                                                        \n",
       "Radial Velocity           44.8            NaN          14.08          23.98   \n",
       "Transit                    NaN            NaN            NaN            NaN   \n",
       "\n",
       "orbital_period   18000.000000   37000.000000   69000.000000   170000.000000  \\\n",
       "method                                                                        \n",
       "Radial Velocity            NaN            NaN            NaN            NaN   \n",
       "Transit                    NaN            NaN            NaN            NaN   \n",
       "\n",
       "orbital_period   318280.000000  \n",
       "method                          \n",
       "Radial Velocity            NaN  \n",
       "Transit                    NaN  \n",
       "\n",
       "[2 rows x 773 columns]"
      ]
     },
     "execution_count": 40,
     "metadata": {},
     "output_type": "execute_result"
    }
   ],
   "source": [
    "methods_principales=[\"Radial Velocity\", \"Transit\"]\n",
    "planets.pivot_table(values=\"distance\", columns=\"orbital_period\",index=\"method\").loc[[\"Radial Velocity\", \"Transit\"]]\n"
   ]
  },
  {
   "cell_type": "code",
   "execution_count": 35,
   "metadata": {},
   "outputs": [
    {
     "data": {
      "text/html": [
       "<div>\n",
       "<style scoped>\n",
       "    .dataframe tbody tr th:only-of-type {\n",
       "        vertical-align: middle;\n",
       "    }\n",
       "\n",
       "    .dataframe tbody tr th {\n",
       "        vertical-align: top;\n",
       "    }\n",
       "\n",
       "    .dataframe thead th {\n",
       "        text-align: right;\n",
       "    }\n",
       "</style>\n",
       "<table border=\"1\" class=\"dataframe\">\n",
       "  <thead>\n",
       "    <tr style=\"text-align: right;\">\n",
       "      <th></th>\n",
       "      <th>orbital_period</th>\n",
       "      <th>distance</th>\n",
       "    </tr>\n",
       "  </thead>\n",
       "  <tbody>\n",
       "    <tr>\n",
       "      <th>0</th>\n",
       "      <td>269.300000</td>\n",
       "      <td>77.40</td>\n",
       "    </tr>\n",
       "    <tr>\n",
       "      <th>1</th>\n",
       "      <td>874.774000</td>\n",
       "      <td>56.95</td>\n",
       "    </tr>\n",
       "    <tr>\n",
       "      <th>2</th>\n",
       "      <td>763.000000</td>\n",
       "      <td>19.84</td>\n",
       "    </tr>\n",
       "    <tr>\n",
       "      <th>3</th>\n",
       "      <td>326.030000</td>\n",
       "      <td>110.62</td>\n",
       "    </tr>\n",
       "    <tr>\n",
       "      <th>4</th>\n",
       "      <td>516.220000</td>\n",
       "      <td>119.47</td>\n",
       "    </tr>\n",
       "    <tr>\n",
       "      <th>...</th>\n",
       "      <td>...</td>\n",
       "      <td>...</td>\n",
       "    </tr>\n",
       "    <tr>\n",
       "      <th>1030</th>\n",
       "      <td>3.941507</td>\n",
       "      <td>172.00</td>\n",
       "    </tr>\n",
       "    <tr>\n",
       "      <th>1031</th>\n",
       "      <td>2.615864</td>\n",
       "      <td>148.00</td>\n",
       "    </tr>\n",
       "    <tr>\n",
       "      <th>1032</th>\n",
       "      <td>3.191524</td>\n",
       "      <td>174.00</td>\n",
       "    </tr>\n",
       "    <tr>\n",
       "      <th>1033</th>\n",
       "      <td>4.125083</td>\n",
       "      <td>293.00</td>\n",
       "    </tr>\n",
       "    <tr>\n",
       "      <th>1034</th>\n",
       "      <td>4.187757</td>\n",
       "      <td>260.00</td>\n",
       "    </tr>\n",
       "  </tbody>\n",
       "</table>\n",
       "<p>950 rows × 2 columns</p>\n",
       "</div>"
      ],
      "text/plain": [
       "      orbital_period  distance\n",
       "0         269.300000     77.40\n",
       "1         874.774000     56.95\n",
       "2         763.000000     19.84\n",
       "3         326.030000    110.62\n",
       "4         516.220000    119.47\n",
       "...              ...       ...\n",
       "1030        3.941507    172.00\n",
       "1031        2.615864    148.00\n",
       "1032        3.191524    174.00\n",
       "1033        4.125083    293.00\n",
       "1034        4.187757    260.00\n",
       "\n",
       "[950 rows x 2 columns]"
      ]
     },
     "execution_count": 35,
     "metadata": {},
     "output_type": "execute_result"
    }
   ],
   "source": [
    "methods_principales=[\"Radial Velocity\", \"Transit\"]\n",
    "planets[planets.method.isin(methods_principales)][[\"orbital_period\",\"distance\"]].fillna(0)"
   ]
  },
  {
   "cell_type": "markdown",
   "metadata": {},
   "source": [
    "---"
   ]
  },
  {
   "cell_type": "markdown",
   "metadata": {
    "tags": []
   },
   "source": [
    "## Analyse des résultats lors de l'élection présidentielle américaine de 2020 *(extrait de l'examen 2021 - 2022)*"
   ]
  },
  {
   "cell_type": "markdown",
   "metadata": {
    "tags": []
   },
   "source": [
    "On propose dans ce premier exercice une analyse succincte des résultats obtenus lors de l'élection présidentielle américaine de 2020. Le fichier [`president_county_candidate.csv`](https://raw.githubusercontent.com/xgarrido/master_python_teaching/master/td/data/president_county_candidate.csv) contient les résultats pour chaque comté (*county*) de chaque état (*state*). En plus du nom du candidat, figurent le partie politique associé (*party*), le nombre de voix obtenus par le candidat (*total_votes*) et si le comté a été remporté par le candidat (*won*). "
   ]
  },
  {
   "cell_type": "markdown",
   "metadata": {},
   "source": [
    "1. Charger le fichier dans un objet `pandas.DataFrame` et afficher les premières lignes.  "
   ]
  },
  {
   "cell_type": "markdown",
   "metadata": {},
   "source": [
    "2. Déterminer le nombre total de votants lors de cette élection."
   ]
  },
  {
   "cell_type": "markdown",
   "metadata": {},
   "source": [
    "3. Déterminer le nombre de votants par état et afficher ce résultat sous la forme d'un histogramme en ayant préalablement classé ces données par ordre décroissant. Représenter cette même information exprimée en pourcent du nombre total de votants."
   ]
  },
  {
   "cell_type": "markdown",
   "metadata": {},
   "source": [
    "4. Déterminer le nombre total de votes par candidat et trier ces résultats depuis le candidat ayant reçu le plus de votes à celui ayant été le moins sollicité. "
   ]
  },
  {
   "cell_type": "markdown",
   "metadata": {},
   "source": [
    "5. Trouver l'unique comté remporté par Jo Jorgensen puis afficher l'ensemble des résultats dans ce comté."
   ]
  },
  {
   "cell_type": "markdown",
   "metadata": {},
   "source": [
    "6. Dans cette partie, on s'intéresse plus particulièrement aux résultats obtenus par le candidat démocrate Joe Biden et par son principal adversaire, le candidat républicain Donald Trump.\n",
    "    1. Sélectionner les données correspondant à ces deux candidats.\n",
    "    2. Grouper les données par état et par candidat afin d'établir pour chacun des deux candidats le nombre total de votes par état. Afficher les résultats sous la forme d'un tableau. \n",
    "    3. Calculer la différence de voix entre chaque candidat pour chaque état puis représenter graphiquement cette différence afin d'établir quels états ont voté majoritairement pour les démocrates ou pour les républicains.\n",
    "    4. Combien de voix au total séparent Joe Biden de Donald Trump."
   ]
  },
  {
   "cell_type": "markdown",
   "metadata": {},
   "source": [
    "---"
   ]
  },
  {
   "cell_type": "markdown",
   "metadata": {},
   "source": [
    "## *Iris setosa, Iris virginica et Iris versicolor*\n",
    "\n",
    "Le jeu de données *Iris* contient les propriétés morphologiques de 3 espèces de fleur d'iris collectées par Edgar Anderson. Ce jeu de données est surtout reputé par l'utilisation faite en 1936 par Ronald Fisher pour démontrer la puissance de son algorithme d'analyse discriminante linéaire à même de séparer les 3 espèces de fleur d'iris. Ces données sont devenues depuis un cas typique pour de nombreuses techniques de classification automatique en *machine learning*."
   ]
  },
  {
   "cell_type": "markdown",
   "metadata": {},
   "source": [
    "- Télécharger le fichier [`iris.csv`](https://raw.githubusercontent.com/xgarrido/master_python_teaching/master/td/data/iris.csv). Charger ce fichier dans un `pandas.DataFrame` et créer une\n",
    "  nouvelle colonne associant la variété d'iris à une couleur (0, 1, 2 ou `red, green, blue` ou ...)"
   ]
  },
  {
   "cell_type": "markdown",
   "metadata": {},
   "source": [
    "- Représenter les distributions normalisées de longueur et de largeur des sépales et des pétales\n",
    "  pour les 3 espèces"
   ]
  },
  {
   "cell_type": "markdown",
   "metadata": {},
   "source": [
    "-  Représenter dans un diagramme (largeur des sépales *vs.* longueur des sépales), la largeur des pétales ainsi que l'espèce de fleur d'iris considérée"
   ]
  },
  {
   "cell_type": "markdown",
   "metadata": {},
   "source": [
    "- Représenter l'ensemble des combinaisons possibles de données (largeur des sépales *vs.* longueur\n",
    "  des sépales, largeur des sépales *vs.* largeur des pétales...), les figures situées dans la\n",
    "  diagonale devant correspondre aux distributions normalisées des différentes grandeurs."
   ]
  }
 ],
 "metadata": {
  "kernelspec": {
   "display_name": "Python 3",
   "language": "python",
   "name": "python3"
  },
  "language_info": {
   "codemirror_mode": {
    "name": "ipython",
    "version": 3
   },
   "file_extension": ".py",
   "mimetype": "text/x-python",
   "name": "python",
   "nbconvert_exporter": "python",
   "pygments_lexer": "ipython3",
   "version": "3.8.8"
  },
  "widgets": {
   "application/vnd.jupyter.widget-state+json": {
    "state": {},
    "version_major": 2,
    "version_minor": 0
   }
  }
 },
 "nbformat": 4,
 "nbformat_minor": 4
}
